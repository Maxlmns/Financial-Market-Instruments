{
 "cells": [
  {
   "cell_type": "code",
   "execution_count": 172,
   "metadata": {},
   "outputs": [],
   "source": [
    "import pandas as pd\n",
    "import numpy as np\n",
    "from scipy.optimize import root_scalar,fsolve"
   ]
  },
  {
   "cell_type": "code",
   "execution_count": 173,
   "metadata": {},
   "outputs": [
    {
     "data": {
      "text/html": [
       "<div>\n",
       "<style scoped>\n",
       "    .dataframe tbody tr th:only-of-type {\n",
       "        vertical-align: middle;\n",
       "    }\n",
       "\n",
       "    .dataframe tbody tr th {\n",
       "        vertical-align: top;\n",
       "    }\n",
       "\n",
       "    .dataframe thead th {\n",
       "        text-align: right;\n",
       "    }\n",
       "</style>\n",
       "<table border=\"1\" class=\"dataframe\">\n",
       "  <thead>\n",
       "    <tr style=\"text-align: right;\">\n",
       "      <th></th>\n",
       "      <th>Date</th>\n",
       "      <th>24</th>\n",
       "      <th>36</th>\n",
       "      <th>60</th>\n",
       "      <th>120</th>\n",
       "      <th>0</th>\n",
       "    </tr>\n",
       "  </thead>\n",
       "  <tbody>\n",
       "    <tr>\n",
       "      <th>0</th>\n",
       "      <td>2013-09-02</td>\n",
       "      <td>2.594</td>\n",
       "      <td>2.800</td>\n",
       "      <td>3.258</td>\n",
       "      <td>3.989</td>\n",
       "      <td>0</td>\n",
       "    </tr>\n",
       "    <tr>\n",
       "      <th>1</th>\n",
       "      <td>2013-09-03</td>\n",
       "      <td>2.652</td>\n",
       "      <td>2.857</td>\n",
       "      <td>3.312</td>\n",
       "      <td>4.030</td>\n",
       "      <td>0</td>\n",
       "    </tr>\n",
       "    <tr>\n",
       "      <th>2</th>\n",
       "      <td>2013-09-04</td>\n",
       "      <td>2.714</td>\n",
       "      <td>2.925</td>\n",
       "      <td>3.373</td>\n",
       "      <td>4.055</td>\n",
       "      <td>0</td>\n",
       "    </tr>\n",
       "    <tr>\n",
       "      <th>3</th>\n",
       "      <td>2013-09-05</td>\n",
       "      <td>2.752</td>\n",
       "      <td>2.968</td>\n",
       "      <td>3.412</td>\n",
       "      <td>4.106</td>\n",
       "      <td>0</td>\n",
       "    </tr>\n",
       "    <tr>\n",
       "      <th>4</th>\n",
       "      <td>2013-09-06</td>\n",
       "      <td>2.790</td>\n",
       "      <td>3.007</td>\n",
       "      <td>3.455</td>\n",
       "      <td>4.177</td>\n",
       "      <td>0</td>\n",
       "    </tr>\n",
       "    <tr>\n",
       "      <th>...</th>\n",
       "      <td>...</td>\n",
       "      <td>...</td>\n",
       "      <td>...</td>\n",
       "      <td>...</td>\n",
       "      <td>...</td>\n",
       "      <td>...</td>\n",
       "    </tr>\n",
       "    <tr>\n",
       "      <th>2656</th>\n",
       "      <td>2024-02-29</td>\n",
       "      <td>3.754</td>\n",
       "      <td>3.702</td>\n",
       "      <td>3.774</td>\n",
       "      <td>4.141</td>\n",
       "      <td>0</td>\n",
       "    </tr>\n",
       "    <tr>\n",
       "      <th>2657</th>\n",
       "      <td>2024-03-01</td>\n",
       "      <td>3.764</td>\n",
       "      <td>3.712</td>\n",
       "      <td>3.782</td>\n",
       "      <td>4.146</td>\n",
       "      <td>0</td>\n",
       "    </tr>\n",
       "    <tr>\n",
       "      <th>2658</th>\n",
       "      <td>2024-03-04</td>\n",
       "      <td>3.732</td>\n",
       "      <td>3.682</td>\n",
       "      <td>3.752</td>\n",
       "      <td>4.106</td>\n",
       "      <td>0</td>\n",
       "    </tr>\n",
       "    <tr>\n",
       "      <th>2659</th>\n",
       "      <td>2024-03-05</td>\n",
       "      <td>3.732</td>\n",
       "      <td>3.682</td>\n",
       "      <td>3.749</td>\n",
       "      <td>4.096</td>\n",
       "      <td>0</td>\n",
       "    </tr>\n",
       "    <tr>\n",
       "      <th>2660</th>\n",
       "      <td>2024-03-06</td>\n",
       "      <td>3.676</td>\n",
       "      <td>3.624</td>\n",
       "      <td>3.683</td>\n",
       "      <td>4.012</td>\n",
       "      <td>0</td>\n",
       "    </tr>\n",
       "  </tbody>\n",
       "</table>\n",
       "<p>2661 rows × 6 columns</p>\n",
       "</div>"
      ],
      "text/plain": [
       "           Date     24     36     60    120  0\n",
       "0    2013-09-02  2.594  2.800  3.258  3.989  0\n",
       "1    2013-09-03  2.652  2.857  3.312  4.030  0\n",
       "2    2013-09-04  2.714  2.925  3.373  4.055  0\n",
       "3    2013-09-05  2.752  2.968  3.412  4.106  0\n",
       "4    2013-09-06  2.790  3.007  3.455  4.177  0\n",
       "...         ...    ...    ...    ...    ... ..\n",
       "2656 2024-02-29  3.754  3.702  3.774  4.141  0\n",
       "2657 2024-03-01  3.764  3.712  3.782  4.146  0\n",
       "2658 2024-03-04  3.732  3.682  3.752  4.106  0\n",
       "2659 2024-03-05  3.732  3.682  3.749  4.096  0\n",
       "2660 2024-03-06  3.676  3.624  3.683  4.012  0\n",
       "\n",
       "[2661 rows x 6 columns]"
      ]
     },
     "execution_count": 173,
     "metadata": {},
     "output_type": "execute_result"
    }
   ],
   "source": [
    "df = pd.read_excel(\"RBAbondyields.xlsx\")[10:].reset_index(drop=True)\n",
    "df.columns = [\"Date\",\"24\", \"36\", \"60\", \"120\"]\n",
    "df[\"Date\"] = pd.to_datetime(df[\"Date\"]).dt.normalize()\n",
    "df[[\"24\", \"36\", \"60\", \"120\"]] = df[[\"24\", \"36\", \"60\", \"120\"]].apply(np.float32)\n",
    "df[\"0\"] = 0\n",
    "df \n"
   ]
  },
  {
   "cell_type": "markdown",
   "metadata": {},
   "source": [
    "$V(t,\\mathbb{T},k) = 1 = B(t,T_n) + k\\sum_{i=1}^n B(t,T_i)$\n",
    "\n",
    "\n"
   ]
  },
  {
   "cell_type": "code",
   "execution_count": 174,
   "metadata": {},
   "outputs": [
    {
     "name": "stdout",
     "output_type": "stream",
     "text": [
      "           Date     TS_24     TS_36     TS_60    TS_120\n",
      "0    2013-09-02  0.949760  0.919807  0.849641  0.667184\n",
      "1    2013-09-03  0.948673  0.918255  0.847375  0.664542\n",
      "2    2013-09-04  0.947513  0.916402  0.844826  0.663155\n",
      "3    2013-09-05  0.946802  0.915231  0.843198  0.659680\n",
      "4    2013-09-06  0.946093  0.914173  0.841393  0.654766\n",
      "...         ...       ...       ...       ...       ...\n",
      "2656 2024-02-29  0.928315  0.895846  0.829368  0.660893\n",
      "2657 2024-03-01  0.928133  0.895582  0.829047  0.660592\n",
      "2658 2024-03-04  0.928716  0.896372  0.830268  0.663289\n",
      "2659 2024-03-05  0.928716  0.896372  0.830397  0.664004\n",
      "2660 2024-03-06  0.929738  0.897906  0.833115  0.669703\n",
      "\n",
      "[2661 rows x 5 columns]\n"
     ]
    }
   ],
   "source": [
    "def logl_interp(x, x0, x1, y0, y1):\n",
    "    return np.exp(np.log(y0) + (x - x0) * np.log(y1 / y0) / (x1 - x0))\n",
    "\n",
    "def compute_term_structure(df):\n",
    "    results = []\n",
    "    \n",
    "    for _, row in df.iterrows():\n",
    "        def term_24(x):\n",
    "            return -1 + x + row[\"24\"] / 200 * sum([logl_interp(m, 0, 24, 1, x) for m in range(6, 24, 6)] + [x])\n",
    "        \n",
    "        term_struc_24 = root_scalar(term_24, bracket=[0.001, 10]).root\n",
    "        \n",
    "        def term_36(x):\n",
    "            return -1 + x + row[\"36\"] / 200 * sum(\n",
    "                [logl_interp(m, 0, 24, 1, term_struc_24) for m in range(6, 24, 6)] +\n",
    "                [term_struc_24] +\n",
    "                [logl_interp(m, 24, 36, term_struc_24, x) for m in range(30, 36, 6)] +\n",
    "                [x]\n",
    "            )\n",
    "        \n",
    "        term_struc_36 = root_scalar(term_36, bracket=[0.001, 10]).root\n",
    "        \n",
    "        def term_60(x):\n",
    "            return -1 + x + row[\"60\"] / 200 * sum(\n",
    "                [logl_interp(m, 0, 24, 1, term_struc_24) for m in range(6, 24, 6)] +\n",
    "                [term_struc_24] +\n",
    "                [logl_interp(m, 24, 36, term_struc_24, term_struc_36) for m in range(30, 36, 6)] +\n",
    "                [term_struc_36] +\n",
    "                [logl_interp(m, 36, 60, term_struc_36, x) for m in range(42, 60, 6)] +\n",
    "                [x]\n",
    "            )\n",
    "        \n",
    "        term_struc_60 = root_scalar(term_60, bracket=[0.001, 10]).root\n",
    "        \n",
    "        def term_120(x):\n",
    "            return -1 + x + row[\"120\"] / 200  * sum(\n",
    "                [logl_interp(m, 0, 24, 1, term_struc_24) for m in range(6, 24, 6)] +\n",
    "                [term_struc_24] +\n",
    "                [logl_interp(m, 24, 36, term_struc_24, term_struc_36) for m in range(30, 36, 6)] +\n",
    "                [term_struc_36] +\n",
    "                [logl_interp(m, 36, 60, term_struc_36, term_struc_60) for m in range(42, 60, 6)] +\n",
    "                [term_struc_60] +\n",
    "                [logl_interp(m, 60, 120, term_struc_60, x) for m in range(66, 120, 6)] +\n",
    "                [x]\n",
    "            )\n",
    "        \n",
    "        term_struc_120 = root_scalar(term_120, bracket=[0.001, 10]).root\n",
    "        \n",
    "        results.append([row[\"Date\"], term_struc_24, term_struc_36, term_struc_60, term_struc_120])\n",
    "    \n",
    "    return pd.DataFrame(results, columns=[\"Date\", \"TS_24\", \"TS_36\", \"TS_60\", \"TS_120\"])\n",
    "\n",
    "\n",
    "term_structure_df = compute_term_structure(df)\n",
    "print(term_structure_df)"
   ]
  },
  {
   "cell_type": "code",
   "execution_count": 175,
   "metadata": {},
   "outputs": [],
   "source": [
    "term_structure_df[\"TS_0\"] = 1\n",
    "def interpolate_term_structure(term_structure_df,maturity):\n",
    "    \n",
    "    if maturity in [0,24,36,60,120]:\n",
    "        return term_structure_df[\"TS_\"+str(maturity)]\n",
    "    x0 = max([_ for _ in [0, 24, 36, 60, 120] if _ < maturity])\n",
    "    x1 = min([_ for _ in [0, 24, 36, 60, 120] if _ > maturity])\n",
    "\n",
    "    return logl_interp(maturity,x0,x1,term_structure_df[\"TS_\"+str(x0)],term_structure_df[\"TS_\"+str(x1)])\n"
   ]
  },
  {
   "cell_type": "code",
   "execution_count": 176,
   "metadata": {},
   "outputs": [
    {
     "data": {
      "text/html": [
       "<div>\n",
       "<style scoped>\n",
       "    .dataframe tbody tr th:only-of-type {\n",
       "        vertical-align: middle;\n",
       "    }\n",
       "\n",
       "    .dataframe tbody tr th {\n",
       "        vertical-align: top;\n",
       "    }\n",
       "\n",
       "    .dataframe thead th {\n",
       "        text-align: right;\n",
       "    }\n",
       "</style>\n",
       "<table border=\"1\" class=\"dataframe\">\n",
       "  <thead>\n",
       "    <tr style=\"text-align: right;\">\n",
       "      <th></th>\n",
       "      <th>Date</th>\n",
       "      <th>TS_24</th>\n",
       "      <th>TS_36</th>\n",
       "      <th>TS_60</th>\n",
       "      <th>TS_120</th>\n",
       "      <th>TS_0</th>\n",
       "    </tr>\n",
       "  </thead>\n",
       "  <tbody>\n",
       "    <tr>\n",
       "      <th>2438</th>\n",
       "      <td>2023-04-21</td>\n",
       "      <td>0.94159</td>\n",
       "      <td>0.911119</td>\n",
       "      <td>0.85374</td>\n",
       "      <td>0.707457</td>\n",
       "      <td>1</td>\n",
       "    </tr>\n",
       "  </tbody>\n",
       "</table>\n",
       "</div>"
      ],
      "text/plain": [
       "           Date    TS_24     TS_36    TS_60    TS_120  TS_0\n",
       "2438 2023-04-21  0.94159  0.911119  0.85374  0.707457     1"
      ]
     },
     "execution_count": 176,
     "metadata": {},
     "output_type": "execute_result"
    }
   ],
   "source": [
    "term_structure_df[term_structure_df[\"Date\"]==\"2023-04-21\"]"
   ]
  },
  {
   "cell_type": "code",
   "execution_count": 177,
   "metadata": {},
   "outputs": [],
   "source": [
    "def compute_bond(term_structure_df,T,r,is_duration=False,is_convexity=False):\n",
    "    B = 0\n",
    "    start = T%6 if T%6!=0 else 6\n",
    "    for maturity in range(start,T+6+T%6,6):\n",
    "        b = interpolate_term_structure(term_structure_df,maturity)\n",
    "        if is_duration:\n",
    "            B+= b*maturity/12\n",
    "        elif is_convexity:\n",
    "            B+= b*(maturity/12)**2\n",
    "\n",
    "        else:\n",
    "            B+= b\n",
    "\n",
    "    b = interpolate_term_structure(term_structure_df,T)\n",
    "    if is_duration:\n",
    "        B = B*r/200 + b*T/12\n",
    "    elif is_convexity:\n",
    "        B = B*r/200 + b*(T/12)**2\n",
    "    else:\n",
    "        B = B*r/200 + b \n",
    "\n",
    "\n",
    "    return B.values[0]"
   ]
  },
  {
   "cell_type": "code",
   "execution_count": 178,
   "metadata": {},
   "outputs": [],
   "source": [
    "def duration_FW(term_structure_df,T,r):\n",
    "    return compute_bond(term_structure_df,T,r,True,False)/compute_bond(term_structure_df,T,r,False,False)"
   ]
  },
  {
   "cell_type": "code",
   "execution_count": 179,
   "metadata": {},
   "outputs": [],
   "source": [
    "def convexity(term_structure_df,T,r):\n",
    "    return compute_bond(term_structure_df,T,r,False,True)/compute_bond(term_structure_df,T,r,False,False)#*0.5 +compute_bond(term_structure_df,T,r,True,False)/compute_bond(term_structure_df,T,r,False,False)"
   ]
  },
  {
   "cell_type": "code",
   "execution_count": 181,
   "metadata": {},
   "outputs": [
    {
     "name": "stdout",
     "output_type": "stream",
     "text": [
      "1.0041996351772637 1.0320359667106485 0.974798256379853 0.8687655412233806\n"
     ]
    }
   ],
   "source": [
    "B1 = compute_bond(term_structure_df[term_structure_df[\"Date\"] == \"2023-04-21\"],24,3.25)\n",
    "B2 = compute_bond(term_structure_df[term_structure_df[\"Date\"] == \"2023-04-21\"],36,4.25)\n",
    "B3 = compute_bond(term_structure_df[term_structure_df[\"Date\"] == \"2023-04-21\"],61,2.25)\n",
    "B4 = compute_bond(term_structure_df[term_structure_df[\"Date\"] == \"2023-04-21\"],80,1)\n",
    "print(B1,B2,B3,B4)"
   ]
  },
  {
   "cell_type": "code",
   "execution_count": 182,
   "metadata": {},
   "outputs": [
    {
     "name": "stdout",
     "output_type": "stream",
     "text": [
      "1.9526531621733427 2.8508870302463425 4.785611125600002 6.4238024754754965\n"
     ]
    }
   ],
   "source": [
    "D1 = duration_FW(term_structure_df[term_structure_df[\"Date\"] == \"2023-04-21\"],24,3.25)\n",
    "D2 = duration_FW(term_structure_df[term_structure_df[\"Date\"] == \"2023-04-21\"],36,4.25)\n",
    "D3 = duration_FW(term_structure_df[term_structure_df[\"Date\"] == \"2023-04-21\"],61,2.25)\n",
    "D4 = duration_FW(term_structure_df[term_structure_df[\"Date\"] == \"2023-04-21\"],80,1)\n",
    "print(D1,D2,D3,D4)"
   ]
  },
  {
   "cell_type": "code",
   "execution_count": 183,
   "metadata": {},
   "outputs": [
    {
     "name": "stdout",
     "output_type": "stream",
     "text": [
      "3.866047814058627 8.380449270630212 23.888775610827132 42.32975124129763\n"
     ]
    }
   ],
   "source": [
    "C1 = convexity(term_structure_df[term_structure_df[\"Date\"] == \"2023-04-21\"],24,3.25)\n",
    "C2 = convexity(term_structure_df[term_structure_df[\"Date\"] == \"2023-04-21\"],36,4.25)\n",
    "C3 = convexity(term_structure_df[term_structure_df[\"Date\"] == \"2023-04-21\"],61,2.25)\n",
    "C4 = convexity(term_structure_df[term_structure_df[\"Date\"] == \"2023-04-21\"],80,1)\n",
    "print(C1,C2,C3,C4)"
   ]
  },
  {
   "cell_type": "markdown",
   "metadata": {},
   "source": [
    "We want $\\delta_1 V_{B_1}(0,\\mathbb{T},k)+ \\delta_2 V_{B_2}(0,\\mathbb{T},k) = 120M$ and $\\delta_1 B_1 D_{FW1}+\\delta_2 B_2 D_{FW2} - 120*4 e^{-rT} =0$\n",
    "\n",
    "\n"
   ]
  },
  {
   "cell_type": "code",
   "execution_count": 197,
   "metadata": {},
   "outputs": [
    {
     "name": "stdout",
     "output_type": "stream",
     "text": [
      "57133320.99555428 55782906.51218997\n"
     ]
    }
   ],
   "source": [
    "def solve_hedge(x,term_structure_df):\n",
    "    B1 = compute_bond(term_structure_df[term_structure_df[\"Date\"] == \"2023-04-21\"],24,3.25)\n",
    "    B4 = compute_bond(term_structure_df[term_structure_df[\"Date\"] == \"2023-04-21\"],80,1)\n",
    "    ZCB = interpolate_term_structure(term_structure_df[term_structure_df[\"Date\"]==\"2023-04-21\"],48).reset_index(drop=True)[0]\n",
    "    return [x[0] * B1 + x[1]*B4-120e6*ZCB,x[0]*duration_FW(term_structure_df[term_structure_df[\"Date\"] == \"2023-04-21\"],24,3.25)*B1+x[1]*duration_FW(term_structure_df[term_structure_df[\"Date\"] == \"2023-04-21\"],80,1)*B4-4*120e6*ZCB]\n",
    "\n",
    "delta1,delta2 = fsolve(solve_hedge,[60e6,60e6],term_structure_df)\n",
    "print(delta1,delta2)"
   ]
  },
  {
   "cell_type": "code",
   "execution_count": null,
   "metadata": {},
   "outputs": [
    {
     "data": {
      "text/plain": [
       "105835527.06727707"
      ]
     },
     "execution_count": 149,
     "metadata": {},
     "output_type": "execute_result"
    }
   ],
   "source": [
    "delta1 * compute_bond(term_structure_df[term_structure_df[\"Date\"] == \"2023-04-21\"],24,3.25) + delta2*compute_bond(term_structure_df[term_structure_df[\"Date\"] == \"2023-04-21\"],80,1)"
   ]
  }
 ],
 "metadata": {
  "kernelspec": {
   "display_name": "Python 3",
   "language": "python",
   "name": "python3"
  },
  "language_info": {
   "codemirror_mode": {
    "name": "ipython",
    "version": 3
   },
   "file_extension": ".py",
   "mimetype": "text/x-python",
   "name": "python",
   "nbconvert_exporter": "python",
   "pygments_lexer": "ipython3",
   "version": "3.12.8"
  }
 },
 "nbformat": 4,
 "nbformat_minor": 2
}
